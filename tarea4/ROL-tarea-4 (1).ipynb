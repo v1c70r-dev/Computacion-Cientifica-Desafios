{
 "cells": [
  {
   "cell_type": "markdown",
   "source": "<center>\n    <h1> INF285 - Computación Científica </h1>\n    <h2> Tarea 4 - Código Base</h2>\n    <h2> [S]cientific [C]omputing [T]eam </a> </h2>\n    <h2> Version: 1.00</h2>\n</center>",
   "metadata": {
    "tags": [],
    "cell_id": "cab92cc6-eee6-4528-975f-7148bdf9fb72",
    "deepnote_cell_type": "markdown",
    "deepnote_cell_height": 270
   }
  },
  {
   "cell_type": "markdown",
   "source": "# No debe utilizar bibliotecas adicionales.",
   "metadata": {
    "tags": [],
    "cell_id": "00001-dc028b02-53da-4834-9e41-0ee449223250",
    "deepnote_cell_type": "markdown",
    "deepnote_cell_height": 82
   }
  },
  {
   "cell_type": "code",
   "metadata": {
    "tags": [],
    "deepnote_to_be_reexecuted": false,
    "source_hash": "2886e06f",
    "execution_start": 1657348301033,
    "execution_millis": 131,
    "cell_id": "00002-630aeb23-2361-4546-a6bd-db4c62bf9e43",
    "owner_user_id": "411cc8b2-ed84-44f8-8aca-6520ce2faa7b",
    "deepnote_cell_type": "code",
    "deepnote_cell_height": 99
   },
   "source": "import numpy as np\nfrom scipy import linalg",
   "outputs": [],
   "execution_count": null
  },
  {
   "cell_type": "markdown",
   "source": "# Funciones a implementar:",
   "metadata": {
    "tags": [],
    "cell_id": "00003-4d9d16fc-b366-4d56-bc6d-1440cdc3a216",
    "deepnote_cell_type": "markdown",
    "deepnote_cell_height": 82
   }
  },
  {
   "cell_type": "code",
   "metadata": {
    "tags": [],
    "deepnote_to_be_reexecuted": false,
    "source_hash": "7c8553cc",
    "execution_start": 1657346566210,
    "execution_millis": 0,
    "cell_id": "00004-96a2dc3f-642e-41af-8867-71c6d19aa6bd",
    "deepnote_cell_type": "code",
    "deepnote_cell_height": 1521
   },
   "source": "# N = n <<<<<<<<<<<<<<<<<<<<<<<< ojo\ndef matrix_A(alfa, n):\n    \"\"\"\n    Parameters\n    ----------\n    alfa          :float\n                     Thermal conductivity\n    n             : int\n                     Number of coefficients\n    Returns\n    -------\n    A             : (n,n)-array\n                     Heat coefficients\n    \"\"\"\n    return U\n\n\ndef GMREs(A,b,x0=np.array([0.0]), m=10, threshold=1e-12):\n    \"\"\"\n    Parameters\n    ----------\n    A              : (n,n)-array \n                    Discretization matrix\n    b              : (n, )-array\n                    Target               \n    x0             : (n,)-array float\n                    Initial conditions array\n    m              : int\n                    Krylov space Components\n    threshold      : float\n                    Minimum residue error value           \n\n    Returns\n    -------\n    x             : (n, )-array\n                     Solutions\n    out_res       : (n,)-array\n                     Residual error\n    \"\"\"\n    return x, out_res\n\n\ndef eig_vals_and_vects(A, iv):\n    \"\"\"\n    Parameters\n    ----------\n    A              : (n,n)-array \n                    Discretization matrix\n    iv             : (n,)-array float\n                    Initial values array         \n    Returns\n    -------\n    eVals          : (n, )-array\n                     Eigenvalues\n    eVects         : (n,n)-array\n                     Eigenvectors\n    C              : (n, )-array\n                     System solution\n    residue        : (n, )-array\n                     GMREs residue              \n    \"\"\"\n    return eVals, eVects, C, residue\n\n\ndef build_u(n, k, iv):\n    \"\"\"\n    Parameters\n    ----------\n    n             : int\n                   Discretization components\n    k             : int\n                   thermal diffusivity                    \n    iv            : (n, )-array float\n                   initial values array\n    Returns\n    -------\n    u             : callable\n                   Solved heat function         \n    \"\"\"\n    return u\n",
   "outputs": [],
   "execution_count": null
  },
  {
   "cell_type": "code",
   "metadata": {
    "tags": [],
    "deepnote_to_be_reexecuted": false,
    "source_hash": "a0300075",
    "execution_start": 1657356604651,
    "execution_millis": 7,
    "cell_id": "00005-0a087a9d-55e7-4c2f-919e-9985dd6bb4a3",
    "owner_user_id": "cbbc472d-5761-4617-8885-1058d6ac2596",
    "deepnote_cell_type": "code",
    "deepnote_cell_height": 81
   },
   "source": "# puede hacer pruebas con el siguiente iv = np.array([0,0.707107, 1.0, 0.707107,0]) con n=5",
   "outputs": [],
   "execution_count": null
  },
  {
   "cell_type": "markdown",
   "source": "<a style='text-decoration:none;line-height:16px;display:flex;color:#5B5B62;padding:10px;justify-content:end;' href='https://deepnote.com?utm_source=created-in-deepnote-cell&projectId=a11cc422-5899-4dee-a9b0-08ff225abaf8' target=\"_blank\">\n<img alt='Created in deepnote.com' style='display:inline;max-height:16px;margin:0px;margin-right:7.5px;' src='data:image/svg+xml;base64,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' > </img>\nCreated in <span style='font-weight:600;margin-left:4px;'>Deepnote</span></a>",
   "metadata": {
    "tags": [],
    "created_in_deepnote_cell": true,
    "deepnote_cell_type": "markdown"
   }
  }
 ],
 "nbformat": 4,
 "nbformat_minor": 2,
 "metadata": {
  "orig_nbformat": 2,
  "deepnote": {},
  "deepnote_notebook_id": "db46ea79-9ad5-492d-825a-54a23d391720",
  "deepnote_execution_queue": []
 }
}