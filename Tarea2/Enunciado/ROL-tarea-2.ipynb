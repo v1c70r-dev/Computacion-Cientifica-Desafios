{
 "cells": [
  {
   "cell_type": "markdown",
   "metadata": {
    "cell_id": "4ff2d52f-dd51-4507-bbe5-cdb207f31f01",
    "deepnote_cell_height": 270,
    "deepnote_cell_type": "markdown",
    "id": "O8PurGBBlqon"
   },
   "source": [
    "<center>\n",
    "    <h1> INF285 - Computación Científica </h1>\n",
    "    <h2> Tarea 2 - Código Base</h2>\n",
    "    <h2> [S]cientific [C]omputing [T]eam </a> </h2>\n",
    "    <h2> Version: 1.00</h2>\n",
    "</center>"
   ]
  },
  {
   "cell_type": "markdown",
   "metadata": {
    "cell_id": "00001-1f16d406-17d3-41e3-8f15-d910b5aa91d7",
    "deepnote_cell_height": 82,
    "deepnote_cell_type": "markdown",
    "id": "HPts45BinpVg"
   },
   "source": [
    "# No debe utilizar bibliotecas adicionales."
   ]
  },
  {
   "cell_type": "code",
   "execution_count": null,
   "metadata": {
    "cell_id": "00002-3918baa6-3b20-4e69-92dc-77085e0644f8",
    "deepnote_cell_height": 333,
    "deepnote_cell_type": "code",
    "deepnote_to_be_reexecuted": false,
    "execution_millis": 2562,
    "execution_start": 1652498143830,
    "id": "L98m8718np1g",
    "source_hash": "460bf1f9"
   },
   "outputs": [],
   "source": [
    "import numpy as np\n",
    "import IPython\n",
    "import time\n",
    "import random\n",
    "from scipy.io import wavfile\n",
    "from scipy.signal import stft\n",
    "from scipy.signal import istft\n",
    "from scipy import linalg\n",
    "from ipywidgets import interact\n",
    "import pandas as pd\n",
    "from sklearn.preprocessing import normalize\n",
    "import matplotlib.pyplot as plt\n",
    "from sklearn.metrics import mean_squared_error\n",
    "\n",
    "random.seed(0)"
   ]
  },
  {
   "cell_type": "markdown",
   "metadata": {
    "cell_id": "00003-ffcd8d7a-672a-4a89-a3c2-28c3c34b99b8",
    "deepnote_cell_type": "text-cell-h2",
    "is_collapsed": false,
    "tags": []
   },
   "source": [
    "## Funciones&nbsp;entregadas:"
   ]
  },
  {
   "cell_type": "code",
   "execution_count": null,
   "metadata": {
    "cell_id": "00004-b3a51465-8116-44e2-94a8-a27757433bed",
    "deepnote_cell_height": 783,
    "deepnote_cell_type": "code",
    "deepnote_to_be_reexecuted": false,
    "execution_millis": 4505246,
    "execution_start": 1652498146408,
    "source_hash": "433fc3bc",
    "tags": []
   },
   "outputs": [],
   "source": [
    "# Firma función 1\n",
    "# Esta función de no debe ser modificada.\n",
    "def WAV_to_Array(WAV_file, noise):\n",
    "    \"\"\"\n",
    "    Parameters\n",
    "    ----------\n",
    "    WAV_file             : string \n",
    "                           WAV path\n",
    "    noise                : boolean\n",
    "                           flag for adding noise to sample\n",
    "\n",
    "    Returns\n",
    "    -------\n",
    "    sample_rate          : int\n",
    "                           Number of samples per second of the WAV file\n",
    "    data                 : 1-D array                                       \n",
    "                          NumPy array with WAV file data                   \n",
    "    \"\"\"                                                                    \n",
    "    sample_rate, data = wavfile.read(WAV_file)\n",
    "    if(len(data.shape) > 1): # En caso de que tenga más de un canal de audio, se trabaja con el primero\n",
    "        data = data[:,0]\n",
    "    data = data[:sample_rate*10]\n",
    "    if noise:\n",
    "        data = data + 0.01*np.asarray(random.sample(range(len(data)),len(data)))\n",
    "    return sample_rate, data\n",
    "\n",
    "# Firma función 2\n",
    "# Esta función de no debe ser modificada.\n",
    "def play_audio(data, sample_rate):\n",
    "    \"\"\"\n",
    "    Parameters\n",
    "    ----------\n",
    "    data            : 1-D array                                       \n",
    "                    NumPy array with WAV file data\n",
    "    sample_rate     : int\n",
    "                    Number of samples per second of the WAV file\n",
    "    \n",
    "    \"\"\"\n",
    "    IPython.display.display(IPython.display.Audio(data, rate=sample_rate))\n",
    "    return"
   ]
  },
  {
   "cell_type": "code",
   "execution_count": null,
   "metadata": {
    "cell_id": "00005-34d9747e-421a-4ebf-979e-d1cc507f8f48",
    "deepnote_cell_height": 458.375,
    "deepnote_cell_type": "code",
    "deepnote_output_heights": [
     null,
     56,
     null,
     56
    ],
    "deepnote_to_be_reexecuted": false,
    "execution_millis": 1062,
    "execution_start": 1652498146417,
    "source_hash": "ea832593",
    "tags": []
   },
   "outputs": [],
   "source": [
    "# Ejemplo practico  cargada  y reproduccion de audio:\n",
    "filename = \"output/song_2/vocals.wav\"\n",
    "sample_rate_normal, data_normal = WAV_to_Array(filename, False)\n",
    "sample_rate_noise, data_noise = WAV_to_Array(filename, True)\n",
    "print(\"Audio normal:\")\n",
    "play_audio(data_normal , sample_rate_normal)\n",
    "print(\"Audio con ruido:\")\n",
    "play_audio(data_noise , sample_rate_noise)"
   ]
  },
  {
   "cell_type": "code",
   "execution_count": null,
   "metadata": {
    "cell_id": "00006-f1d6feba-4cbd-4063-b340-bc387d6cb71f",
    "deepnote_cell_height": 1287,
    "deepnote_cell_type": "code",
    "deepnote_to_be_reexecuted": false,
    "execution_millis": 4982994,
    "execution_start": 1652498147457,
    "source_hash": "96a0ff1",
    "tags": []
   },
   "outputs": [],
   "source": [
    "# Firma función 3\n",
    "# Esta función de no debe ser modificada.\n",
    "def STFT(data):\n",
    "    \"\"\"\n",
    "    Parameters\n",
    "    ----------\n",
    "    data                 : 1-D array                                      \n",
    "                          NumPy array with WAV file data\n",
    "    Returns\n",
    "    -------\n",
    "    M                : (p, q) array\n",
    "                       M complex matrix\n",
    "    \"\"\"\n",
    "    _, _, M = stft(data)\n",
    "    return M\n",
    "\n",
    "# Firma función 4    \n",
    "# Esta función de no debe ser modificada.\n",
    "def ISTFT(M):\n",
    "    \"\"\"\n",
    "    Parameters\n",
    "    ----------\n",
    "    M                : (p, q) array\n",
    "                       M complex matrix\n",
    "    Returns\n",
    "    -------\n",
    "    data             : 1-D array                                      \n",
    "                        NumPy array with WAV file data\n",
    "    \"\"\"\n",
    "    _, data = istft(M)\n",
    "    return data\n",
    "\n",
    "# Firma función 5\n",
    "# Esta función de no debe ser modificada.\n",
    "def Split(M):\n",
    "    \"\"\"\n",
    "    Parameters\n",
    "    ----------\n",
    "    M                : (p, q) array\n",
    "                       M complex matrix\n",
    "    Returns\n",
    "    -------\n",
    "    M_Re             : (p, q) array\n",
    "                       M_Re real matrix\n",
    "    M_Im             : (p, q) array\n",
    "                       M_Im real matrix\n",
    "    \"\"\"\n",
    "    M_Re = M.real\n",
    "    M_Im = M.imag\n",
    "    return M_Re, M_Im\n",
    "\n",
    "# Firma función 6\n",
    "# Esta función de no debe ser modificada.\n",
    "def Merge(M_Re, M_Im):\n",
    "    \"\"\"\n",
    "    Parameters\n",
    "    ----------\n",
    "    M_Re             : (p, q) array\n",
    "                       M_Re real matrix\n",
    "    M_Im             : (p, q) array\n",
    "                       M_Im real matrix\n",
    "    Returns\n",
    "    -------\n",
    "    M                : (p, q) array\n",
    "                       M complex matrix\n",
    "    \"\"\"\n",
    "    M = M_Re + 1j*M_Im \n",
    "    return M"
   ]
  },
  {
   "cell_type": "markdown",
   "metadata": {
    "cell_id": "00007-a4fa462a-61e7-49c8-8589-839193d60ae3",
    "deepnote_cell_type": "text-cell-h2",
    "is_collapsed": false,
    "tags": []
   },
   "source": [
    "## Funciones&nbsp;a&nbsp;implementar:"
   ]
  },
  {
   "cell_type": "code",
   "execution_count": null,
   "metadata": {
    "cell_id": "00008-68ca5883-33a8-444b-ba46-3ee2fc7a1b68",
    "deepnote_cell_height": 2079,
    "deepnote_cell_type": "code",
    "deepnote_to_be_reexecuted": false,
    "execution_millis": 1,
    "execution_start": 1652498147458,
    "id": "u6hY8WxOhKQv",
    "source_hash": "dec34f13"
   },
   "outputs": [],
   "source": [
    "# Firma función 7\n",
    "def PCA_SVD(M, m):\n",
    "    \"\"\"\n",
    "    Parameters\n",
    "    ----------\n",
    "    M             : (p, q) array\n",
    "                    M real matrix\n",
    "    m              : int\n",
    "                    Number of components\n",
    "    Returns\n",
    "    -------\n",
    "    V             : (q, m)-array\n",
    "                     first m principal components\n",
    "    Y              : (p,m)-array\n",
    "                     Principal Component Coefficients\n",
    "    mu             : (q)-array\n",
    "                     Average per column \n",
    "    \"\"\"\n",
    "    return V, Y, mu\n",
    "\n",
    "# Firma función 8\n",
    "def PCA_M(V, Y, mu):\n",
    "    \"\"\"\n",
    "    Parameters\n",
    "    ----------\n",
    "    V              : (q, m)-array\n",
    "                     first m principal components\n",
    "    Y              : (p,m)-array\n",
    "                     Principal Component Coefficients \n",
    "    mu             : (q)-array\n",
    "                     Average per column \n",
    "    Returns\n",
    "    -------\n",
    "    Mm              : (p, q)-array\n",
    "                     \"Modified\" M\n",
    "    \"\"\"\n",
    "    return M\n",
    "\n",
    "# Firma función 9\n",
    "def calc_compression_ratio(data_length, M_shape, m1, m2):\n",
    "    \"\"\"\n",
    "    Parameters\n",
    "    ----------\n",
    "    data_length          : length of 1-D array                                      \n",
    "                          Length of the original NumPy array with WAV file data\n",
    "    M_shape              : tuple\n",
    "                          Complex M matrix Dimensions\n",
    "    m1                   : int\n",
    "                          Number of components to reduce M_Re real matrix\n",
    "    m2                   : int\n",
    "                          Number of components to reduce M_Im real matrix\n",
    "    Returns\n",
    "    -------\n",
    "    compression_ratio  : Float\n",
    "                         Compression ratio\n",
    "    \"\"\"\n",
    "    return compression_ratio\n",
    "\n",
    "# Firma función 10\n",
    "def compression_algorithm(data, m1, m2):\n",
    "    \"\"\"\n",
    "    Parameters\n",
    "    ----------\n",
    "    data               : 1-D array                                      \n",
    "                       NumPy array with WAV file data\n",
    "    m1                 : int\n",
    "                       Number of components to reduce M_Re real matrix\n",
    "    m2                 : int\n",
    "                       Number of components to reduce M_Im real matrix\n",
    "\n",
    "    Returns\n",
    "    -------\n",
    "    V1             : (q, m)-array\n",
    "                     first m principal components from M_Re\n",
    "    Y1              : (p,m)-array\n",
    "                     Principal Component Coefficients from M_Re\n",
    "    mu1            : (q)-array\n",
    "                     Average per column from M_Re\n",
    "    V2             : (q, m)-array\n",
    "                     first m principal components from M_Im\n",
    "    Y2              : (p,m)-array\n",
    "                     Principal Component Coefficients from M_Im\n",
    "    mu2             : (q)-array\n",
    "                     Average per column from M_Im\n",
    "                \n",
    "    \"\"\"\n",
    "    return V1, Y1, mu1, V2, Y2, mu2\n",
    "\n",
    "# Firma función 11\n",
    "def decompression_algorithm(V1, Y1, mu1, V2, Y2, mu2):\n",
    "    \"\"\"\n",
    "    Parameters\n",
    "    ----------\n",
    "    V1             : (q, m)-array\n",
    "                     first m principal components from M_Re\n",
    "    Y1              : (p,m)-array\n",
    "                     Principal Component Coefficients from M_Re\n",
    "    mu1            : (q)-array\n",
    "                     Average per column from M_Re\n",
    "    V2             : (q, m)-array\n",
    "                     first m principal components from M_Im\n",
    "    Y2              : (p,m)-array\n",
    "                     Principal Component Coefficients from M_Im\n",
    "    mu2             : (q)-array\n",
    "                     Average per column from M_Im\n",
    "\n",
    "    Returns\n",
    "    -------\n",
    "    data_modified   : 1-D array                                      \n",
    "                      NumPy array with WAV file data\n",
    "    \"\"\"\n",
    "    return data_modified"
   ]
  },
  {
   "cell_type": "markdown",
   "metadata": {
    "cell_id": "00009-eeb464e2-f0c2-4d18-828c-4c8d03d5aa99",
    "deepnote_cell_type": "text-cell-h2",
    "is_collapsed": false,
    "tags": []
   },
   "source": [
    "## Experimentación"
   ]
  },
  {
   "cell_type": "markdown",
   "metadata": {
    "cell_id": "00010-6eee9b4e-25b1-4540-a820-673989723064",
    "deepnote_cell_type": "text-cell-h3",
    "is_collapsed": false,
    "tags": []
   },
   "source": [
    "### El buen funcionamiento de la siguiente sección es un indicador de que su código funciona correctamente"
   ]
  },
  {
   "cell_type": "code",
   "execution_count": null,
   "metadata": {
    "cell_id": "00011-9083bf6a-554f-4fb5-b2cf-48c43173f1b6",
    "deepnote_cell_height": 720.1875,
    "deepnote_cell_type": "code",
    "deepnote_to_be_reexecuted": false,
    "execution_millis": 195,
    "execution_start": 1652500167214,
    "owner_user_id": "cbbc472d-5761-4617-8885-1058d6ac2596",
    "source_hash": "ec08c6d2",
    "tags": []
   },
   "outputs": [],
   "source": [
    "noise_reduction_attempts = [\n",
    "    (1, 1),\n",
    "    (5, 5),\n",
    "    (10, 10),\n",
    "    (20, 20),\n",
    "    (30, 30),\n",
    "    (45, 45),\n",
    "    (55, 55),\n",
    "    (65, 65),\n",
    "    (75, 75),\n",
    "    (85, 85),\n",
    "    (95, 95),\n",
    "    (100, 100)\n",
    "]\n",
    "\n",
    "\n",
    "def build_estimates(signal, noise_signal, n1_components, n2_components):\n",
    "    M = STFT(signal)\n",
    "    ratio = calc_compression_ratio(len(signal), M.shape, n1_components, n2_components)\n",
    "    V1, Y1, mu1, V2, Y2, mu2 = compression_algorithm(noise_signal, n1_components, n2_components)\n",
    "    signal_modified = decompression_algorithm(V1, Y1, mu1, V2, Y2, mu2)[:len(signal)]\n",
    "    signal_Normalized = signal/linalg.norm(signal)\n",
    "    signal_modified_Normalized = signal_modified/linalg.norm(signal_modified)\n",
    "    error = np.linalg.norm(signal_Normalized - signal_modified_Normalized)\n",
    "    mse = mean_squared_error(signal_Normalized, signal_modified_Normalized)\n",
    "    return n1_components, ratio, error, mse, signal_modified\n",
    "\n",
    "pca_compression_results = pd.DataFrame([\n",
    "        build_estimates(data_normal, data_noise, n1, n2)\n",
    "        for n1, n2 in noise_reduction_attempts\n",
    "    ])\n",
    "pca_compression_results.columns = [\"Number of components\", \"Compression ratio\", \"error\", \"MSE\", \"Reconstructed signal\"]\n",
    "pca_compression_results"
   ]
  },
  {
   "cell_type": "code",
   "execution_count": null,
   "metadata": {
    "cell_id": "00012-dad69c3b-94b5-4e44-872c-3dd8b0b03a9b",
    "deepnote_cell_height": 386.375,
    "deepnote_cell_type": "code",
    "deepnote_output_heights": [
     null,
     56,
     null,
     56
    ],
    "deepnote_to_be_reexecuted": false,
    "execution_millis": 175,
    "execution_start": 1652498151948,
    "source_hash": "3b7fa5e6",
    "tags": []
   },
   "outputs": [],
   "source": [
    "print(\"Audio normal:\")\n",
    "play_audio(data_normal , sample_rate_normal)\n",
    "print(\"Audio con ruido:\")\n",
    "play_audio(data_noise , sample_rate_noise)"
   ]
  },
  {
   "cell_type": "code",
   "execution_count": null,
   "metadata": {
    "cell_id": "00013-81a2bb0c-a1e1-4d15-941a-f36fd8c45e4e",
    "deepnote_cell_height": 886.828125,
    "deepnote_cell_type": "code",
    "deepnote_output_heights": [
     537.828125
    ],
    "deepnote_to_be_reexecuted": false,
    "execution_millis": 993,
    "execution_start": 1652498152129,
    "source_hash": "3d15a46a",
    "tags": []
   },
   "outputs": [],
   "source": [
    "fig, ax = plt.subplots(figsize=(16,10),ncols=2, nrows=2)\n",
    "\n",
    "## Graficar distintos tipos de errores\n",
    "pca_compression_results.plot(\"Number of components\", \"error\", \"scatter\", title='Error medio', ax=ax[0,0])\n",
    "pca_compression_results.plot(\"Number of components\", \"MSE\", \"scatter\", title='Error cuadrado medio', ax=ax[0,1])\n",
    "pca_compression_results.plot(\"Number of components\", \"Compression ratio\", \"scatter\", title='Análisis de Tasa de Compresión', ax=ax[1,0], label='PCA')\n",
    "ax[1,0].plot([0,100], [0,0],'-', label='Sin PCA', color=\"orange\")\n",
    "# plt.plot(j, all_compressions_rates[j],'r.',ms=10)\n",
    "ax[1,0].legend()\n",
    "ax[0,0].grid(True)\n",
    "ax[0,1].grid(True)\n",
    "ax[1,0].grid(True)\n",
    "plt.subplots_adjust(wspace=0.4, hspace=0.4)\n",
    "plt.show()\n"
   ]
  },
  {
   "cell_type": "code",
   "execution_count": null,
   "metadata": {
    "cell_id": "00014-0cecbfa9-9ed2-4258-9db9-48c5ef9a4dde",
    "deepnote_cell_height": 519,
    "deepnote_cell_type": "code",
    "deepnote_output_heights": [
     56,
     56,
     56,
     56,
     56
    ],
    "deepnote_to_be_reexecuted": false,
    "execution_millis": 225,
    "execution_start": 1652498153135,
    "source_hash": "2178602c",
    "tags": []
   },
   "outputs": [],
   "source": [
    "for reduced in pca_compression_results[\"Reconstructed signal\"][:5]:\n",
    "    play_audio(reduced , sample_rate_noise)"
   ]
  },
  {
   "cell_type": "markdown",
   "metadata": {
    "created_in_deepnote_cell": true,
    "deepnote_cell_type": "markdown",
    "tags": []
   },
   "source": [
    "<a style='text-decoration:none;line-height:16px;display:flex;color:#5B5B62;padding:10px;justify-content:end;' href='https://deepnote.com?utm_source=created-in-deepnote-cell&projectId=65d1da02-617f-4545-8a92-006e4409c46c' target=\"_blank\">\n",
    "<img alt='Created in deepnote.com' style='display:inline;max-height:16px;margin:0px;margin-right:7.5px;' src='data:image/svg+xml;base64,PD94bWwgdmVyc2lvbj0iMS4wIiBlbmNvZGluZz0iVVRGLTgiPz4KPHN2ZyB3aWR0aD0iODBweCIgaGVpZ2h0PSI4MHB4IiB2aWV3Qm94PSIwIDAgODAgODAiIHZlcnNpb249IjEuMSIgeG1sbnM9Imh0dHA6Ly93d3cudzMub3JnLzIwMDAvc3ZnIiB4bWxuczp4bGluaz0iaHR0cDovL3d3dy53My5vcmcvMTk5OS94bGluayI+CiAgICA8IS0tIEdlbmVyYXRvcjogU2tldGNoIDU0LjEgKDc2NDkwKSAtIGh0dHBzOi8vc2tldGNoYXBwLmNvbSAtLT4KICAgIDx0aXRsZT5Hcm91cCAzPC90aXRsZT4KICAgIDxkZXNjPkNyZWF0ZWQgd2l0aCBTa2V0Y2guPC9kZXNjPgogICAgPGcgaWQ9IkxhbmRpbmciIHN0cm9rZT0ibm9uZSIgc3Ryb2tlLXdpZHRoPSIxIiBmaWxsPSJub25lIiBmaWxsLXJ1bGU9ImV2ZW5vZGQiPgogICAgICAgIDxnIGlkPSJBcnRib2FyZCIgdHJhbnNmb3JtPSJ0cmFuc2xhdGUoLTEyMzUuMDAwMDAwLCAtNzkuMDAwMDAwKSI+CiAgICAgICAgICAgIDxnIGlkPSJHcm91cC0zIiB0cmFuc2Zvcm09InRyYW5zbGF0ZSgxMjM1LjAwMDAwMCwgNzkuMDAwMDAwKSI+CiAgICAgICAgICAgICAgICA8cG9seWdvbiBpZD0iUGF0aC0yMCIgZmlsbD0iIzAyNjVCNCIgcG9pbnRzPSIyLjM3NjIzNzYyIDgwIDM4LjA0NzY2NjcgODAgNTcuODIxNzgyMiA3My44MDU3NTkyIDU3LjgyMTc4MjIgMzIuNzU5MjczOSAzOS4xNDAyMjc4IDMxLjY4MzE2ODMiPjwvcG9seWdvbj4KICAgICAgICAgICAgICAgIDxwYXRoIGQ9Ik0zNS4wMDc3MTgsODAgQzQyLjkwNjIwMDcsNzYuNDU0OTM1OCA0Ny41NjQ5MTY3LDcxLjU0MjI2NzEgNDguOTgzODY2LDY1LjI2MTk5MzkgQzUxLjExMjI4OTksNTUuODQxNTg0MiA0MS42NzcxNzk1LDQ5LjIxMjIyODQgMjUuNjIzOTg0Niw0OS4yMTIyMjg0IEMyNS40ODQ5Mjg5LDQ5LjEyNjg0NDggMjkuODI2MTI5Niw0My4yODM4MjQ4IDM4LjY0NzU4NjksMzEuNjgzMTY4MyBMNzIuODcxMjg3MSwzMi41NTQ0MjUgTDY1LjI4MDk3Myw2Ny42NzYzNDIxIEw1MS4xMTIyODk5LDc3LjM3NjE0NCBMMzUuMDA3NzE4LDgwIFoiIGlkPSJQYXRoLTIyIiBmaWxsPSIjMDAyODY4Ij48L3BhdGg+CiAgICAgICAgICAgICAgICA8cGF0aCBkPSJNMCwzNy43MzA0NDA1IEwyNy4xMTQ1MzcsMC4yNTcxMTE0MzYgQzYyLjM3MTUxMjMsLTEuOTkwNzE3MDEgODAsMTAuNTAwMzkyNyA4MCwzNy43MzA0NDA1IEM4MCw2NC45NjA0ODgyIDY0Ljc3NjUwMzgsNzkuMDUwMzQxNCAzNC4zMjk1MTEzLDgwIEM0Ny4wNTUzNDg5LDc3LjU2NzA4MDggNTMuNDE4MjY3Nyw3MC4zMTM2MTAzIDUzLjQxODI2NzcsNTguMjM5NTg4NSBDNTMuNDE4MjY3Nyw0MC4xMjg1NTU3IDM2LjMwMzk1NDQsMzcuNzMwNDQwNSAyNS4yMjc0MTcsMzcuNzMwNDQwNSBDMTcuODQzMDU4NiwzNy43MzA0NDA1IDkuNDMzOTE5NjYsMzcuNzMwNDQwNSAwLDM3LjczMDQ0MDUgWiIgaWQ9IlBhdGgtMTkiIGZpbGw9IiMzNzkzRUYiPjwvcGF0aD4KICAgICAgICAgICAgPC9nPgogICAgICAgIDwvZz4KICAgIDwvZz4KPC9zdmc+' > </img>\n",
    "Created in <span style='font-weight:600;margin-left:4px;'>Deepnote</span></a>"
   ]
  }
 ],
 "metadata": {
  "colab": {
   "name": "ROL-tarea-2.ipynb",
   "provenance": []
  },
  "deepnote": {},
  "deepnote_execution_queue": [],
  "deepnote_notebook_id": "bc32fb2e-acf4-4f8a-a653-da7028860774",
  "interpreter": {
   "hash": "b82ee9da585e141689c0e2b4f14397db65aef97c84c29c2a1d5c913dbd401dd3"
  },
  "kernelspec": {
   "display_name": "Python 3.9.7 64-bit (system)",
   "language": "python",
   "name": "python3"
  },
  "language_info": {
   "codemirror_mode": {
    "name": "ipython",
    "version": 3
   },
   "file_extension": ".py",
   "mimetype": "text/x-python",
   "name": "python",
   "nbconvert_exporter": "python",
   "pygments_lexer": "ipython3",
   "version": "3.9.7"
  }
 },
 "nbformat": 4,
 "nbformat_minor": 1
}
